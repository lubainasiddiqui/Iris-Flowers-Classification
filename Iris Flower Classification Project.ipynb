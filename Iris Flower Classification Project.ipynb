{
 "cells": [
  {
   "cell_type": "code",
   "execution_count": null,
   "id": "0b5631b4",
   "metadata": {},
   "outputs": [],
   "source": [
    "# Import Packages\n",
    "import numpy as np\n",
    "import matplotlib.pyplot as plt\n",
    "import seaborn as sns\n",
    "import pandas as pd\n",
    "%matplotlib inline\n"
   ]
  },
  {
   "cell_type": "markdown",
   "id": "a31a7fb6",
   "metadata": {},
   "source": [
    "# Iris Species Classification \n",
    "We have to classify iris plants of three species\n",
    "\n",
    "About Dataset: From Kaggle\n",
    "\n",
    "The Iris dataset was used in R.A. Fisher's classic 1936 paper, The Use of Multiple Measurements in Taxonomic Problems, and can also be found on the UCI Machine Learning Repository.\n",
    "\n",
    "It includes three iris species with 50 samples each as well as some properties about each flower. One flower species is linearly separable from the other two, but the other two are not linearly separable from each other.\n",
    "\n",
    "The columns in this dataset are:\n",
    "\n",
    "Id\n",
    "SepalLengthCm\n",
    "SepalWidthCm\n",
    "PetalLengthCm\n",
    "PetalWidthCm\n",
    "Species "
   ]
  },
  {
   "cell_type": "code",
   "execution_count": 7,
   "id": "87e35713",
   "metadata": {},
   "outputs": [],
   "source": [
    "data = pd.read_csv(\"Iris.csv\")\n"
   ]
  },
  {
   "cell_type": "code",
   "execution_count": 9,
   "id": "29a11b2b",
   "metadata": {},
   "outputs": [
    {
     "data": {
      "text/html": [
       "<div>\n",
       "<style scoped>\n",
       "    .dataframe tbody tr th:only-of-type {\n",
       "        vertical-align: middle;\n",
       "    }\n",
       "\n",
       "    .dataframe tbody tr th {\n",
       "        vertical-align: top;\n",
       "    }\n",
       "\n",
       "    .dataframe thead th {\n",
       "        text-align: right;\n",
       "    }\n",
       "</style>\n",
       "<table border=\"1\" class=\"dataframe\">\n",
       "  <thead>\n",
       "    <tr style=\"text-align: right;\">\n",
       "      <th></th>\n",
       "      <th>Id</th>\n",
       "      <th>SepalLengthCm</th>\n",
       "      <th>SepalWidthCm</th>\n",
       "      <th>PetalLengthCm</th>\n",
       "      <th>PetalWidthCm</th>\n",
       "      <th>Species</th>\n",
       "    </tr>\n",
       "  </thead>\n",
       "  <tbody>\n",
       "    <tr>\n",
       "      <th>0</th>\n",
       "      <td>1</td>\n",
       "      <td>5.1</td>\n",
       "      <td>3.5</td>\n",
       "      <td>1.4</td>\n",
       "      <td>0.2</td>\n",
       "      <td>Iris-setosa</td>\n",
       "    </tr>\n",
       "    <tr>\n",
       "      <th>1</th>\n",
       "      <td>2</td>\n",
       "      <td>4.9</td>\n",
       "      <td>3.0</td>\n",
       "      <td>1.4</td>\n",
       "      <td>0.2</td>\n",
       "      <td>Iris-setosa</td>\n",
       "    </tr>\n",
       "    <tr>\n",
       "      <th>2</th>\n",
       "      <td>3</td>\n",
       "      <td>4.7</td>\n",
       "      <td>3.2</td>\n",
       "      <td>1.3</td>\n",
       "      <td>0.2</td>\n",
       "      <td>Iris-setosa</td>\n",
       "    </tr>\n",
       "    <tr>\n",
       "      <th>3</th>\n",
       "      <td>4</td>\n",
       "      <td>4.6</td>\n",
       "      <td>3.1</td>\n",
       "      <td>1.5</td>\n",
       "      <td>0.2</td>\n",
       "      <td>Iris-setosa</td>\n",
       "    </tr>\n",
       "    <tr>\n",
       "      <th>4</th>\n",
       "      <td>5</td>\n",
       "      <td>5.0</td>\n",
       "      <td>3.6</td>\n",
       "      <td>1.4</td>\n",
       "      <td>0.2</td>\n",
       "      <td>Iris-setosa</td>\n",
       "    </tr>\n",
       "  </tbody>\n",
       "</table>\n",
       "</div>"
      ],
      "text/plain": [
       "   Id  SepalLengthCm  SepalWidthCm  PetalLengthCm  PetalWidthCm      Species\n",
       "0   1            5.1           3.5            1.4           0.2  Iris-setosa\n",
       "1   2            4.9           3.0            1.4           0.2  Iris-setosa\n",
       "2   3            4.7           3.2            1.3           0.2  Iris-setosa\n",
       "3   4            4.6           3.1            1.5           0.2  Iris-setosa\n",
       "4   5            5.0           3.6            1.4           0.2  Iris-setosa"
      ]
     },
     "execution_count": 9,
     "metadata": {},
     "output_type": "execute_result"
    }
   ],
   "source": [
    "data.head()"
   ]
  },
  {
   "cell_type": "code",
   "execution_count": 10,
   "id": "2aa74aae",
   "metadata": {},
   "outputs": [
    {
     "name": "stdout",
     "output_type": "stream",
     "text": [
      "<class 'pandas.core.frame.DataFrame'>\n",
      "RangeIndex: 150 entries, 0 to 149\n",
      "Data columns (total 6 columns):\n",
      "Id               150 non-null int64\n",
      "SepalLengthCm    150 non-null float64\n",
      "SepalWidthCm     150 non-null float64\n",
      "PetalLengthCm    150 non-null float64\n",
      "PetalWidthCm     150 non-null float64\n",
      "Species          150 non-null object\n",
      "dtypes: float64(4), int64(1), object(1)\n",
      "memory usage: 7.1+ KB\n"
     ]
    }
   ],
   "source": [
    "data.info()\n"
   ]
  },
  {
   "cell_type": "markdown",
   "id": "6833845a",
   "metadata": {},
   "source": [
    "# Data visualization"
   ]
  },
  {
   "cell_type": "code",
   "execution_count": 11,
   "id": "6687aa06",
   "metadata": {},
   "outputs": [
    {
     "data": {
      "text/plain": [
       "Iris-setosa        50\n",
       "Iris-versicolor    50\n",
       "Iris-virginica     50\n",
       "Name: Species, dtype: int64"
      ]
     },
     "execution_count": 11,
     "metadata": {},
     "output_type": "execute_result"
    }
   ],
   "source": [
    "data.Species.value_counts()"
   ]
  },
  {
   "cell_type": "code",
   "execution_count": 12,
   "id": "d74c0577",
   "metadata": {},
   "outputs": [
    {
     "data": {
      "text/plain": [
       "<seaborn.axisgrid.FacetGrid at 0x16f34648278>"
      ]
     },
     "execution_count": 12,
     "metadata": {},
     "output_type": "execute_result"
    },
    {
     "data": {
      "image/png": "[encoded data removed]",
      "text/plain": [
       "<Figure size 607.5x504 with 1 Axes>"
      ]
     },
     "metadata": {
      "needs_background": "light"
     },
     "output_type": "display_data"
    }
   ],
   "source": [
    "# Relationship between sepal length and sepal width\n",
    "sns.FacetGrid(data, hue=\"Species\", height = 7) \\\n",
    "   .map(plt.scatter, \"SepalLengthCm\", \"SepalWidthCm\") \\\n",
    "   .add_legend()\n"
   ]
  },
  {
   "cell_type": "code",
   "execution_count": 13,
   "id": "b664d469",
   "metadata": {},
   "outputs": [
    {
     "data": {
      "text/plain": [
       "<seaborn.axisgrid.FacetGrid at 0x16f34dda668>"
      ]
     },
     "execution_count": 13,
     "metadata": {},
     "output_type": "execute_result"
    },
    {
     "data": {
      "image/png": "[encoded data removed]",
      "text/plain": [
       "<Figure size 607.5x504 with 1 Axes>"
      ]
     },
     "metadata": {
      "needs_background": "light"
     },
     "output_type": "display_data"
    }
   ],
   "source": [
    "# Relationship between petal length and petal width\n",
    "sns.FacetGrid(data, hue=\"Species\", height = 7)\\\n",
    "   .map(plt.scatter, \"PetalLengthCm\", \"PetalWidthCm\") \\\n",
    "   .add_legend()\n"
   ]
  },
  {
   "cell_type": "code",
   "execution_count": 14,
   "id": "ee6ac127",
   "metadata": {
    "scrolled": true
   },
   "outputs": [
    {
     "data": {
      "text/plain": [
       "<matplotlib.axes._subplots.AxesSubplot at 0x16f34efd8d0>"
      ]
     },
     "execution_count": 14,
     "metadata": {},
     "output_type": "execute_result"
    },
    {
     "data": {
      "image/png": "[encoded data removed]",
      "text/plain": [
       "<Figure size 1080x720 with 4 Axes>"
      ]
     },
     "metadata": {
      "needs_background": "light"
     },
     "output_type": "display_data"
    }
   ],
   "source": [
    "# Denser regions of the data are fatter, and sparser are thiner\n",
    "plt.figure(figsize=(15,10))\n",
    "plt.subplot(2,2,1)\n",
    "sns.violinplot(x='Species',y='PetalLengthCm',data=data)\n",
    "plt.subplot(2,2,2)\n",
    "sns.violinplot(x='Species',y='PetalWidthCm',data=data)\n",
    "plt.subplot(2,2,3)\n",
    "sns.violinplot(x='Species',y='SepalLengthCm',data=data)\n",
    "plt.subplot(2,2,4)\n",
    "sns.violinplot(x='Species',y='SepalWidthCm',data=data)\n"
   ]
  },
  {
   "cell_type": "markdown",
   "id": "eb862eeb",
   "metadata": {},
   "source": [
    "# Feature Engineering\n",
    "In the following features data are scattered in different values(sizes). Let's catagorize them as:\n",
    "\n",
    "small = 0\n",
    "medium = 1\n",
    "large = 2\n"
   ]
  },
  {
   "cell_type": "code",
   "execution_count": 15,
   "id": "5634092d",
   "metadata": {},
   "outputs": [],
   "source": [
    "dataset = [data]\n"
   ]
  },
  {
   "cell_type": "code",
   "execution_count": 16,
   "id": "35e812e9",
   "metadata": {},
   "outputs": [
    {
     "data": {
      "text/html": [
       "<div>\n",
       "<style scoped>\n",
       "    .dataframe tbody tr th:only-of-type {\n",
       "        vertical-align: middle;\n",
       "    }\n",
       "\n",
       "    .dataframe tbody tr th {\n",
       "        vertical-align: top;\n",
       "    }\n",
       "\n",
       "    .dataframe thead th {\n",
       "        text-align: right;\n",
       "    }\n",
       "</style>\n",
       "<table border=\"1\" class=\"dataframe\">\n",
       "  <thead>\n",
       "    <tr style=\"text-align: right;\">\n",
       "      <th></th>\n",
       "      <th>Id</th>\n",
       "      <th>SepalLengthCm</th>\n",
       "      <th>SepalWidthCm</th>\n",
       "      <th>PetalLengthCm</th>\n",
       "      <th>PetalWidthCm</th>\n",
       "      <th>Species</th>\n",
       "    </tr>\n",
       "  </thead>\n",
       "  <tbody>\n",
       "    <tr>\n",
       "      <th>0</th>\n",
       "      <td>1</td>\n",
       "      <td>5.1</td>\n",
       "      <td>3.5</td>\n",
       "      <td>1.4</td>\n",
       "      <td>0.2</td>\n",
       "      <td>Iris-setosa</td>\n",
       "    </tr>\n",
       "    <tr>\n",
       "      <th>1</th>\n",
       "      <td>2</td>\n",
       "      <td>4.9</td>\n",
       "      <td>3.0</td>\n",
       "      <td>1.4</td>\n",
       "      <td>0.2</td>\n",
       "      <td>Iris-setosa</td>\n",
       "    </tr>\n",
       "    <tr>\n",
       "      <th>2</th>\n",
       "      <td>3</td>\n",
       "      <td>4.7</td>\n",
       "      <td>3.2</td>\n",
       "      <td>1.3</td>\n",
       "      <td>0.2</td>\n",
       "      <td>Iris-setosa</td>\n",
       "    </tr>\n",
       "    <tr>\n",
       "      <th>3</th>\n",
       "      <td>4</td>\n",
       "      <td>4.6</td>\n",
       "      <td>3.1</td>\n",
       "      <td>1.5</td>\n",
       "      <td>0.2</td>\n",
       "      <td>Iris-setosa</td>\n",
       "    </tr>\n",
       "    <tr>\n",
       "      <th>4</th>\n",
       "      <td>5</td>\n",
       "      <td>5.0</td>\n",
       "      <td>3.6</td>\n",
       "      <td>1.4</td>\n",
       "      <td>0.2</td>\n",
       "      <td>Iris-setosa</td>\n",
       "    </tr>\n",
       "  </tbody>\n",
       "</table>\n",
       "</div>"
      ],
      "text/plain": [
       "   Id  SepalLengthCm  SepalWidthCm  PetalLengthCm  PetalWidthCm      Species\n",
       "0   1            5.1           3.5            1.4           0.2  Iris-setosa\n",
       "1   2            4.9           3.0            1.4           0.2  Iris-setosa\n",
       "2   3            4.7           3.2            1.3           0.2  Iris-setosa\n",
       "3   4            4.6           3.1            1.5           0.2  Iris-setosa\n",
       "4   5            5.0           3.6            1.4           0.2  Iris-setosa"
      ]
     },
     "execution_count": 16,
     "metadata": {},
     "output_type": "execute_result"
    }
   ],
   "source": [
    "data.head()\n"
   ]
  },
  {
   "cell_type": "markdown",
   "id": "3533b087",
   "metadata": {},
   "source": [
    "# Sepal Length"
   ]
  },
  {
   "cell_type": "code",
   "execution_count": 17,
   "id": "9d8d1bd1",
   "metadata": {},
   "outputs": [
    {
     "data": {
      "text/plain": [
       "count    150.000000\n",
       "mean       5.843333\n",
       "std        0.828066\n",
       "min        4.300000\n",
       "25%        5.100000\n",
       "50%        5.800000\n",
       "75%        6.400000\n",
       "max        7.900000\n",
       "Name: SepalLengthCm, dtype: float64"
      ]
     },
     "execution_count": 17,
     "metadata": {},
     "output_type": "execute_result"
    }
   ],
   "source": [
    "data['SepalLengthCm'].describe()\n"
   ]
  },
  {
   "cell_type": "code",
   "execution_count": 18,
   "id": "2066dcc9",
   "metadata": {},
   "outputs": [
    {
     "name": "stdout",
     "output_type": "stream",
     "text": [
      "0      (4.296, 5.5]\n",
      "1      (4.296, 5.5]\n",
      "2      (4.296, 5.5]\n",
      "3      (4.296, 5.5]\n",
      "4      (4.296, 5.5]\n",
      "5      (4.296, 5.5]\n",
      "6      (4.296, 5.5]\n",
      "7      (4.296, 5.5]\n",
      "8      (4.296, 5.5]\n",
      "9      (4.296, 5.5]\n",
      "10     (4.296, 5.5]\n",
      "11     (4.296, 5.5]\n",
      "12     (4.296, 5.5]\n",
      "13     (4.296, 5.5]\n",
      "14       (5.5, 6.7]\n",
      "15       (5.5, 6.7]\n",
      "16     (4.296, 5.5]\n",
      "17     (4.296, 5.5]\n",
      "18       (5.5, 6.7]\n",
      "19     (4.296, 5.5]\n",
      "20     (4.296, 5.5]\n",
      "21     (4.296, 5.5]\n",
      "22     (4.296, 5.5]\n",
      "23     (4.296, 5.5]\n",
      "24     (4.296, 5.5]\n",
      "25     (4.296, 5.5]\n",
      "26     (4.296, 5.5]\n",
      "27     (4.296, 5.5]\n",
      "28     (4.296, 5.5]\n",
      "29     (4.296, 5.5]\n",
      "           ...     \n",
      "120      (6.7, 7.9]\n",
      "121      (5.5, 6.7]\n",
      "122      (6.7, 7.9]\n",
      "123      (5.5, 6.7]\n",
      "124      (5.5, 6.7]\n",
      "125      (6.7, 7.9]\n",
      "126      (5.5, 6.7]\n",
      "127      (5.5, 6.7]\n",
      "128      (5.5, 6.7]\n",
      "129      (6.7, 7.9]\n",
      "130      (6.7, 7.9]\n",
      "131      (6.7, 7.9]\n",
      "132      (5.5, 6.7]\n",
      "133      (5.5, 6.7]\n",
      "134      (5.5, 6.7]\n",
      "135      (6.7, 7.9]\n",
      "136      (5.5, 6.7]\n",
      "137      (5.5, 6.7]\n",
      "138      (5.5, 6.7]\n",
      "139      (6.7, 7.9]\n",
      "140      (5.5, 6.7]\n",
      "141      (6.7, 7.9]\n",
      "142      (5.5, 6.7]\n",
      "143      (6.7, 7.9]\n",
      "144      (5.5, 6.7]\n",
      "145      (5.5, 6.7]\n",
      "146      (5.5, 6.7]\n",
      "147      (5.5, 6.7]\n",
      "148      (5.5, 6.7]\n",
      "149      (5.5, 6.7]\n",
      "Name: CategoricalSepalLengthCm, Length: 150, dtype: category\n",
      "Categories (3, interval[float64]): [(4.296, 5.5] < (5.5, 6.7] < (6.7, 7.9]]\n"
     ]
    }
   ],
   "source": [
    "data['CategoricalSepalLengthCm'] = pd.cut(data['SepalLengthCm'], 3)\n",
    "print(data['CategoricalSepalLengthCm'])\n"
   ]
  },
  {
   "cell_type": "code",
   "execution_count": 19,
   "id": "d78adb29",
   "metadata": {},
   "outputs": [],
   "source": [
    "for _data in dataset:\n",
    "    _data.loc[_data['SepalLengthCm']<=5.5, 'SepalLengthCm'] = 0\n",
    "    _data.loc[(_data['SepalLengthCm'] > 5.5) & (data['SepalLengthCm'] <= 6.7), 'SepalLengthCm'] = 1\n",
    "    _data.loc[_data['SepalLengthCm']>6.7, 'SepalLengthCm'] = 2"
   ]
  },
  {
   "cell_type": "markdown",
   "id": "13362d5e",
   "metadata": {},
   "source": [
    "# Sepal Width"
   ]
  },
  {
   "cell_type": "code",
   "execution_count": 20,
   "id": "53e4511c",
   "metadata": {},
   "outputs": [
    {
     "data": {
      "text/plain": [
       "count    150.000000\n",
       "mean       3.054000\n",
       "std        0.433594\n",
       "min        2.000000\n",
       "25%        2.800000\n",
       "50%        3.000000\n",
       "75%        3.300000\n",
       "max        4.400000\n",
       "Name: SepalWidthCm, dtype: float64"
      ]
     },
     "execution_count": 20,
     "metadata": {},
     "output_type": "execute_result"
    }
   ],
   "source": [
    "data['SepalWidthCm'].describe()\n"
   ]
  },
  {
   "cell_type": "code",
   "execution_count": 21,
   "id": "cf466815",
   "metadata": {},
   "outputs": [
    {
     "name": "stdout",
     "output_type": "stream",
     "text": [
      "0        (2.8, 3.6]\n",
      "1        (2.8, 3.6]\n",
      "2        (2.8, 3.6]\n",
      "3        (2.8, 3.6]\n",
      "4        (2.8, 3.6]\n",
      "5        (3.6, 4.4]\n",
      "6        (2.8, 3.6]\n",
      "7        (2.8, 3.6]\n",
      "8        (2.8, 3.6]\n",
      "9        (2.8, 3.6]\n",
      "10       (3.6, 4.4]\n",
      "11       (2.8, 3.6]\n",
      "12       (2.8, 3.6]\n",
      "13       (2.8, 3.6]\n",
      "14       (3.6, 4.4]\n",
      "15       (3.6, 4.4]\n",
      "16       (3.6, 4.4]\n",
      "17       (2.8, 3.6]\n",
      "18       (3.6, 4.4]\n",
      "19       (3.6, 4.4]\n",
      "20       (2.8, 3.6]\n",
      "21       (3.6, 4.4]\n",
      "22       (2.8, 3.6]\n",
      "23       (2.8, 3.6]\n",
      "24       (2.8, 3.6]\n",
      "25       (2.8, 3.6]\n",
      "26       (2.8, 3.6]\n",
      "27       (2.8, 3.6]\n",
      "28       (2.8, 3.6]\n",
      "29       (2.8, 3.6]\n",
      "           ...     \n",
      "120      (2.8, 3.6]\n",
      "121    (1.998, 2.8]\n",
      "122    (1.998, 2.8]\n",
      "123    (1.998, 2.8]\n",
      "124      (2.8, 3.6]\n",
      "125      (2.8, 3.6]\n",
      "126    (1.998, 2.8]\n",
      "127      (2.8, 3.6]\n",
      "128    (1.998, 2.8]\n",
      "129      (2.8, 3.6]\n",
      "130    (1.998, 2.8]\n",
      "131      (3.6, 4.4]\n",
      "132    (1.998, 2.8]\n",
      "133    (1.998, 2.8]\n",
      "134    (1.998, 2.8]\n",
      "135      (2.8, 3.6]\n",
      "136      (2.8, 3.6]\n",
      "137      (2.8, 3.6]\n",
      "138      (2.8, 3.6]\n",
      "139      (2.8, 3.6]\n",
      "140      (2.8, 3.6]\n",
      "141      (2.8, 3.6]\n",
      "142    (1.998, 2.8]\n",
      "143      (2.8, 3.6]\n",
      "144      (2.8, 3.6]\n",
      "145      (2.8, 3.6]\n",
      "146    (1.998, 2.8]\n",
      "147      (2.8, 3.6]\n",
      "148      (2.8, 3.6]\n",
      "149      (2.8, 3.6]\n",
      "Name: CategoricalSepalWidthCm, Length: 150, dtype: category\n",
      "Categories (3, interval[float64]): [(1.998, 2.8] < (2.8, 3.6] < (3.6, 4.4]]\n"
     ]
    }
   ],
   "source": [
    "data['CategoricalSepalWidthCm'] = pd.cut(data['SepalWidthCm'], 3)\n",
    "print(data['CategoricalSepalWidthCm'])\n"
   ]
  },
  {
   "cell_type": "code",
   "execution_count": 22,
   "id": "a44d45ee",
   "metadata": {},
   "outputs": [],
   "source": [
    "for _data in dataset:\n",
    "    _data.loc[_data['SepalWidthCm']<=2.8, 'SepalWidthCm'] = 0\n",
    "    _data.loc[(_data['SepalWidthCm'] > 2.8) & (data['SepalWidthCm'] <= 3.6), 'SepalWidthCm'] = 1\n",
    "    _data.loc[_data['SepalWidthCm']>3.6, 'SepalWidthCm'] = 2\n"
   ]
  },
  {
   "cell_type": "markdown",
   "id": "c18cf0da",
   "metadata": {},
   "source": [
    "# Petal Length"
   ]
  },
  {
   "cell_type": "code",
   "execution_count": 23,
   "id": "29dda3c4",
   "metadata": {},
   "outputs": [
    {
     "data": {
      "text/plain": [
       "count    150.000000\n",
       "mean       3.758667\n",
       "std        1.764420\n",
       "min        1.000000\n",
       "25%        1.600000\n",
       "50%        4.350000\n",
       "75%        5.100000\n",
       "max        6.900000\n",
       "Name: PetalLengthCm, dtype: float64"
      ]
     },
     "execution_count": 23,
     "metadata": {},
     "output_type": "execute_result"
    }
   ],
   "source": [
    "data['PetalLengthCm'].describe()\n"
   ]
  },
  {
   "cell_type": "code",
   "execution_count": 24,
   "id": "b710a142",
   "metadata": {},
   "outputs": [
    {
     "name": "stdout",
     "output_type": "stream",
     "text": [
      "0      (0.994, 2.967]\n",
      "1      (0.994, 2.967]\n",
      "2      (0.994, 2.967]\n",
      "3      (0.994, 2.967]\n",
      "4      (0.994, 2.967]\n",
      "5      (0.994, 2.967]\n",
      "6      (0.994, 2.967]\n",
      "7      (0.994, 2.967]\n",
      "8      (0.994, 2.967]\n",
      "9      (0.994, 2.967]\n",
      "10     (0.994, 2.967]\n",
      "11     (0.994, 2.967]\n",
      "12     (0.994, 2.967]\n",
      "13     (0.994, 2.967]\n",
      "14     (0.994, 2.967]\n",
      "15     (0.994, 2.967]\n",
      "16     (0.994, 2.967]\n",
      "17     (0.994, 2.967]\n",
      "18     (0.994, 2.967]\n",
      "19     (0.994, 2.967]\n",
      "20     (0.994, 2.967]\n",
      "21     (0.994, 2.967]\n",
      "22     (0.994, 2.967]\n",
      "23     (0.994, 2.967]\n",
      "24     (0.994, 2.967]\n",
      "25     (0.994, 2.967]\n",
      "26     (0.994, 2.967]\n",
      "27     (0.994, 2.967]\n",
      "28     (0.994, 2.967]\n",
      "29     (0.994, 2.967]\n",
      "            ...      \n",
      "120      (4.933, 6.9]\n",
      "121    (2.967, 4.933]\n",
      "122      (4.933, 6.9]\n",
      "123    (2.967, 4.933]\n",
      "124      (4.933, 6.9]\n",
      "125      (4.933, 6.9]\n",
      "126    (2.967, 4.933]\n",
      "127    (2.967, 4.933]\n",
      "128      (4.933, 6.9]\n",
      "129      (4.933, 6.9]\n",
      "130      (4.933, 6.9]\n",
      "131      (4.933, 6.9]\n",
      "132      (4.933, 6.9]\n",
      "133      (4.933, 6.9]\n",
      "134      (4.933, 6.9]\n",
      "135      (4.933, 6.9]\n",
      "136      (4.933, 6.9]\n",
      "137      (4.933, 6.9]\n",
      "138    (2.967, 4.933]\n",
      "139      (4.933, 6.9]\n",
      "140      (4.933, 6.9]\n",
      "141      (4.933, 6.9]\n",
      "142      (4.933, 6.9]\n",
      "143      (4.933, 6.9]\n",
      "144      (4.933, 6.9]\n",
      "145      (4.933, 6.9]\n",
      "146      (4.933, 6.9]\n",
      "147      (4.933, 6.9]\n",
      "148      (4.933, 6.9]\n",
      "149      (4.933, 6.9]\n",
      "Name: CategoricalPetalLengthCm, Length: 150, dtype: category\n",
      "Categories (3, interval[float64]): [(0.994, 2.967] < (2.967, 4.933] < (4.933, 6.9]]\n"
     ]
    }
   ],
   "source": [
    "data['CategoricalPetalLengthCm'] = pd.cut(data['PetalLengthCm'], 3)\n",
    "print(data['CategoricalPetalLengthCm'])\n"
   ]
  },
  {
   "cell_type": "code",
   "execution_count": 25,
   "id": "ec0b27ce",
   "metadata": {},
   "outputs": [],
   "source": [
    "for _data in dataset:\n",
    "    _data.loc[_data['PetalLengthCm']<=2.967, 'PetalLengthCm'] = 0\n",
    "    _data.loc[(_data['PetalLengthCm'] > 2.967) & (data['PetalLengthCm'] <= 4.933), 'PetalLengthCm'] = 1\n",
    "    _data.loc[_data['PetalLengthCm']>4.933, 'PetalLengthCm'] = 2\n"
   ]
  },
  {
   "cell_type": "markdown",
   "id": "9b8a068b",
   "metadata": {},
   "source": [
    "# Petal Width"
   ]
  },
  {
   "cell_type": "code",
   "execution_count": 26,
   "id": "aa4ff0b3",
   "metadata": {},
   "outputs": [
    {
     "data": {
      "text/plain": [
       "count    150.000000\n",
       "mean       1.198667\n",
       "std        0.763161\n",
       "min        0.100000\n",
       "25%        0.300000\n",
       "50%        1.300000\n",
       "75%        1.800000\n",
       "max        2.500000\n",
       "Name: PetalWidthCm, dtype: float64"
      ]
     },
     "execution_count": 26,
     "metadata": {},
     "output_type": "execute_result"
    }
   ],
   "source": [
    "data['PetalWidthCm'].describe()\n"
   ]
  },
  {
   "cell_type": "code",
   "execution_count": 27,
   "id": "1ac15f80",
   "metadata": {},
   "outputs": [
    {
     "name": "stdout",
     "output_type": "stream",
     "text": [
      "0      (0.0976, 0.9]\n",
      "1      (0.0976, 0.9]\n",
      "2      (0.0976, 0.9]\n",
      "3      (0.0976, 0.9]\n",
      "4      (0.0976, 0.9]\n",
      "5      (0.0976, 0.9]\n",
      "6      (0.0976, 0.9]\n",
      "7      (0.0976, 0.9]\n",
      "8      (0.0976, 0.9]\n",
      "9      (0.0976, 0.9]\n",
      "10     (0.0976, 0.9]\n",
      "11     (0.0976, 0.9]\n",
      "12     (0.0976, 0.9]\n",
      "13     (0.0976, 0.9]\n",
      "14     (0.0976, 0.9]\n",
      "15     (0.0976, 0.9]\n",
      "16     (0.0976, 0.9]\n",
      "17     (0.0976, 0.9]\n",
      "18     (0.0976, 0.9]\n",
      "19     (0.0976, 0.9]\n",
      "20     (0.0976, 0.9]\n",
      "21     (0.0976, 0.9]\n",
      "22     (0.0976, 0.9]\n",
      "23     (0.0976, 0.9]\n",
      "24     (0.0976, 0.9]\n",
      "25     (0.0976, 0.9]\n",
      "26     (0.0976, 0.9]\n",
      "27     (0.0976, 0.9]\n",
      "28     (0.0976, 0.9]\n",
      "29     (0.0976, 0.9]\n",
      "           ...      \n",
      "120       (1.7, 2.5]\n",
      "121       (1.7, 2.5]\n",
      "122       (1.7, 2.5]\n",
      "123       (1.7, 2.5]\n",
      "124       (1.7, 2.5]\n",
      "125       (1.7, 2.5]\n",
      "126       (1.7, 2.5]\n",
      "127       (1.7, 2.5]\n",
      "128       (1.7, 2.5]\n",
      "129       (0.9, 1.7]\n",
      "130       (1.7, 2.5]\n",
      "131       (1.7, 2.5]\n",
      "132       (1.7, 2.5]\n",
      "133       (0.9, 1.7]\n",
      "134       (0.9, 1.7]\n",
      "135       (1.7, 2.5]\n",
      "136       (1.7, 2.5]\n",
      "137       (1.7, 2.5]\n",
      "138       (1.7, 2.5]\n",
      "139       (1.7, 2.5]\n",
      "140       (1.7, 2.5]\n",
      "141       (1.7, 2.5]\n",
      "142       (1.7, 2.5]\n",
      "143       (1.7, 2.5]\n",
      "144       (1.7, 2.5]\n",
      "145       (1.7, 2.5]\n",
      "146       (1.7, 2.5]\n",
      "147       (1.7, 2.5]\n",
      "148       (1.7, 2.5]\n",
      "149       (1.7, 2.5]\n",
      "Name: CategoricalPetalWidthCm, Length: 150, dtype: category\n",
      "Categories (3, interval[float64]): [(0.0976, 0.9] < (0.9, 1.7] < (1.7, 2.5]]\n"
     ]
    }
   ],
   "source": [
    "data['CategoricalPetalWidthCm'] = pd.cut(data['PetalWidthCm'], 3)\n",
    "print(data['CategoricalPetalWidthCm'])\n"
   ]
  },
  {
   "cell_type": "code",
   "execution_count": 28,
   "id": "f72dd9ec",
   "metadata": {},
   "outputs": [],
   "source": [
    "for _data in dataset:\n",
    "    _data.loc[_data['PetalWidthCm']<=0.9, 'PetalWidthCm'] = 0\n",
    "    _data.loc[(_data['PetalWidthCm'] > 0.9) & (data['PetalWidthCm'] <= 1.7), 'PetalWidthCm'] = 1\n",
    "    _data.loc[_data['PetalWidthCm']>1.7, 'PetalWidthCm'] = 2\n"
   ]
  },
  {
   "cell_type": "markdown",
   "id": "96166f4e",
   "metadata": {},
   "source": [
    "# Dropping Unnecesssary Columns"
   ]
  },
  {
   "cell_type": "code",
   "execution_count": 29,
   "id": "8129c7bb",
   "metadata": {},
   "outputs": [],
   "source": [
    "features_drop = ['CategoricalSepalLengthCm', 'CategoricalSepalWidthCm', 'CategoricalPetalLengthCm', 'CategoricalPetalWidthCm']\n",
    "data = data.drop(features_drop, axis = 1)\n"
   ]
  },
  {
   "cell_type": "code",
   "execution_count": 30,
   "id": "ca86f238",
   "metadata": {},
   "outputs": [
    {
     "data": {
      "text/html": [
       "<div>\n",
       "<style scoped>\n",
       "    .dataframe tbody tr th:only-of-type {\n",
       "        vertical-align: middle;\n",
       "    }\n",
       "\n",
       "    .dataframe tbody tr th {\n",
       "        vertical-align: top;\n",
       "    }\n",
       "\n",
       "    .dataframe thead th {\n",
       "        text-align: right;\n",
       "    }\n",
       "</style>\n",
       "<table border=\"1\" class=\"dataframe\">\n",
       "  <thead>\n",
       "    <tr style=\"text-align: right;\">\n",
       "      <th></th>\n",
       "      <th>Id</th>\n",
       "      <th>SepalLengthCm</th>\n",
       "      <th>SepalWidthCm</th>\n",
       "      <th>PetalLengthCm</th>\n",
       "      <th>PetalWidthCm</th>\n",
       "      <th>Species</th>\n",
       "    </tr>\n",
       "  </thead>\n",
       "  <tbody>\n",
       "    <tr>\n",
       "      <th>0</th>\n",
       "      <td>1</td>\n",
       "      <td>0.0</td>\n",
       "      <td>1.0</td>\n",
       "      <td>0.0</td>\n",
       "      <td>0.0</td>\n",
       "      <td>Iris-setosa</td>\n",
       "    </tr>\n",
       "    <tr>\n",
       "      <th>1</th>\n",
       "      <td>2</td>\n",
       "      <td>0.0</td>\n",
       "      <td>1.0</td>\n",
       "      <td>0.0</td>\n",
       "      <td>0.0</td>\n",
       "      <td>Iris-setosa</td>\n",
       "    </tr>\n",
       "    <tr>\n",
       "      <th>2</th>\n",
       "      <td>3</td>\n",
       "      <td>0.0</td>\n",
       "      <td>1.0</td>\n",
       "      <td>0.0</td>\n",
       "      <td>0.0</td>\n",
       "      <td>Iris-setosa</td>\n",
       "    </tr>\n",
       "    <tr>\n",
       "      <th>3</th>\n",
       "      <td>4</td>\n",
       "      <td>0.0</td>\n",
       "      <td>1.0</td>\n",
       "      <td>0.0</td>\n",
       "      <td>0.0</td>\n",
       "      <td>Iris-setosa</td>\n",
       "    </tr>\n",
       "    <tr>\n",
       "      <th>4</th>\n",
       "      <td>5</td>\n",
       "      <td>0.0</td>\n",
       "      <td>1.0</td>\n",
       "      <td>0.0</td>\n",
       "      <td>0.0</td>\n",
       "      <td>Iris-setosa</td>\n",
       "    </tr>\n",
       "  </tbody>\n",
       "</table>\n",
       "</div>"
      ],
      "text/plain": [
       "   Id  SepalLengthCm  SepalWidthCm  PetalLengthCm  PetalWidthCm      Species\n",
       "0   1            0.0           1.0            0.0           0.0  Iris-setosa\n",
       "1   2            0.0           1.0            0.0           0.0  Iris-setosa\n",
       "2   3            0.0           1.0            0.0           0.0  Iris-setosa\n",
       "3   4            0.0           1.0            0.0           0.0  Iris-setosa\n",
       "4   5            0.0           1.0            0.0           0.0  Iris-setosa"
      ]
     },
     "execution_count": 30,
     "metadata": {},
     "output_type": "execute_result"
    }
   ],
   "source": [
    "data.head()\n"
   ]
  },
  {
   "cell_type": "markdown",
   "id": "3e37f88c",
   "metadata": {},
   "source": [
    "# Classification"
   ]
  },
  {
   "cell_type": "code",
   "execution_count": 31,
   "id": "613469ed",
   "metadata": {},
   "outputs": [],
   "source": [
    "data.drop('Id',axis=1,inplace=True) \n",
    "#dropping the Id column\n",
    "#axis = 1 specifies that it should be column wise, \n",
    "#inplace = 1 means the changes should be reflected into the dataframe\n"
   ]
  },
  {
   "cell_type": "code",
   "execution_count": 32,
   "id": "55c27d21",
   "metadata": {},
   "outputs": [],
   "source": [
    "# We will be using K Fold Cross Validation\n",
    "from sklearn.tree import DecisionTreeClassifier\n",
    "from sklearn.ensemble import RandomForestClassifier\n",
    "from sklearn.svm import SVC\n",
    "\n",
    "\n",
    "from sklearn.model_selection import KFold\n",
    "from sklearn.model_selection import cross_val_score\n",
    "k_fold = KFold(n_splits=15, shuffle = True, random_state = 42)\n"
   ]
  },
  {
   "cell_type": "code",
   "execution_count": 33,
   "id": "a4cb7256",
   "metadata": {},
   "outputs": [
    {
     "data": {
      "image/png": "[encoded data removed]",
      "text/plain": [
       "<Figure size 648x432 with 2 Axes>"
      ]
     },
     "metadata": {
      "needs_background": "light"
     },
     "output_type": "display_data"
    }
   ],
   "source": [
    "plt.figure(figsize=(9,6)) \n",
    "sns.heatmap(data.corr(),annot=True,cmap='cubehelix_r')\n",
    "plt.show()\n"
   ]
  },
  {
   "cell_type": "markdown",
   "id": "1ae39f61",
   "metadata": {},
   "source": [
    "# Observation:\n",
    "Petal length and width is highly correlated(0.94). So we will use only one of them. Let's use width.\n",
    "On the other hand Sepal length and width are negatively correlated(-0.13). We can use both of them.\n"
   ]
  },
  {
   "cell_type": "code",
   "execution_count": 34,
   "id": "fe816359",
   "metadata": {},
   "outputs": [],
   "source": [
    "data.drop('PetalLengthCm',axis=1,inplace=True)\n"
   ]
  },
  {
   "cell_type": "code",
   "execution_count": 35,
   "id": "7d80e5ed",
   "metadata": {},
   "outputs": [
    {
     "data": {
      "text/plain": [
       "((150, 3), (150,))"
      ]
     },
     "execution_count": 35,
     "metadata": {},
     "output_type": "execute_result"
    }
   ],
   "source": [
    "train = data.drop('Species', axis = 1)\n",
    "target = data['Species']\n",
    "train.shape, target.shape\n"
   ]
  },
  {
   "cell_type": "markdown",
   "id": "0237d274",
   "metadata": {},
   "source": [
    "# Decision Tree "
   ]
  },
  {
   "cell_type": "code",
   "execution_count": 37,
   "id": "a9159926",
   "metadata": {},
   "outputs": [
    {
     "name": "stdout",
     "output_type": "stream",
     "text": [
      "[1.  1.  1.  1.  0.9 1.  1.  1.  0.9 0.8 1.  1.  1.  0.9 0.9]\n"
     ]
    }
   ],
   "source": [
    "# Decision Tree\n",
    "clf = DecisionTreeClassifier()\n",
    "score = cross_val_score(clf, train, target, cv = k_fold, n_jobs = 3, scoring = 'accuracy')\n",
    "print(score)\n"
   ]
  },
  {
   "cell_type": "code",
   "execution_count": 38,
   "id": "cd9e5886",
   "metadata": {},
   "outputs": [
    {
     "name": "stdout",
     "output_type": "stream",
     "text": [
      "Average accuracy:  96.0 %\n",
      "Minimum accuracy:  80.0 %\n",
      "Maximum accuracy:  100.0 %\n"
     ]
    }
   ],
   "source": [
    "#decision tree score\n",
    "print(\"Average accuracy: \", round(np.mean(score)*100, 2), '%')\n",
    "print(\"Minimum accuracy: \", np.min(score)*100, '%')\n",
    "print(\"Maximum accuracy: \", np.max(score)*100, '%')\n"
   ]
  },
  {
   "cell_type": "markdown",
   "id": "a38288dc",
   "metadata": {},
   "source": [
    "# Random Forest"
   ]
  },
  {
   "cell_type": "code",
   "execution_count": 39,
   "id": "18c0528a",
   "metadata": {},
   "outputs": [
    {
     "name": "stdout",
     "output_type": "stream",
     "text": [
      "[1.  1.  1.  1.  0.9 1.  1.  1.  0.9 0.8 1.  1.  0.9 0.9 0.9]\n"
     ]
    }
   ],
   "source": [
    "# Random Forest\n",
    "clf = RandomForestClassifier()\n",
    "score = cross_val_score(clf, train, target, cv = k_fold, n_jobs = 3, scoring = 'accuracy')\n",
    "print(score)\n"
   ]
  },
  {
   "cell_type": "code",
   "execution_count": 40,
   "id": "be522394",
   "metadata": {},
   "outputs": [
    {
     "name": "stdout",
     "output_type": "stream",
     "text": [
      "Average accuracy:  95.33 %\n",
      "Minimum accuracy:  80.0 %\n",
      "Maximum accuracy:  100.0 %\n"
     ]
    }
   ],
   "source": [
    "# random forest score\n",
    "print(\"Average accuracy: \", round(np.mean(score)*100, 2), '%')\n",
    "print(\"Minimum accuracy: \", np.min(score)*100, '%')\n",
    "print(\"Maximum accuracy: \", np.max(score)*100, '%')\n"
   ]
  },
  {
   "cell_type": "markdown",
   "id": "011d2ae1",
   "metadata": {},
   "source": [
    "# SVM"
   ]
  },
  {
   "cell_type": "code",
   "execution_count": 41,
   "id": "10e4b4b3",
   "metadata": {},
   "outputs": [
    {
     "name": "stdout",
     "output_type": "stream",
     "text": [
      "[1.  1.  1.  1.  0.9 1.  1.  1.  0.9 0.8 1.  1.  1.  0.9 0.9]\n"
     ]
    }
   ],
   "source": [
    "# SVM\n",
    "clf = SVC()\n",
    "score = cross_val_score(clf, train, target, cv = k_fold, n_jobs = 3, scoring = 'accuracy')\n",
    "print(score)\n"
   ]
  },
  {
   "cell_type": "code",
   "execution_count": 42,
   "id": "30c4278c",
   "metadata": {},
   "outputs": [
    {
     "name": "stdout",
     "output_type": "stream",
     "text": [
      "Average accuracy:  96.0 %\n",
      "Minimum accuracy:  80.0 %\n",
      "Maximum accuracy:  100.0 %\n"
     ]
    }
   ],
   "source": [
    "# svm score\n",
    "print(\"Average accuracy: \", round(np.mean(score)*100, 2), '%')\n",
    "print(\"Minimum accuracy: \", np.min(score)*100, '%')\n",
    "print(\"Maximum accuracy: \", np.max(score)*100, '%')\n"
   ]
  }
 ],
 "metadata": {
  "kernelspec": {
   "display_name": "Python 3 (ipykernel)",
   "language": "python",
   "name": "python3"
  },
  "language_info": {
   "codemirror_mode": {
    "name": "ipython",
    "version": 3
   },
   "file_extension": ".py",
   "mimetype": "text/x-python",
   "name": "python",
   "nbconvert_exporter": "python",
   "pygments_lexer": "ipython3",
   "version": "3.7.3"
  }
 },
 "nbformat": 4,
 "nbformat_minor": 5
}
